{
  "nbformat": 4,
  "nbformat_minor": 0,
  "metadata": {
    "colab": {
      "provenance": [],
      "authorship_tag": "ABX9TyP4WXTL3GSrCIVTg44urQ7p",
      "include_colab_link": true
    },
    "kernelspec": {
      "name": "python3",
      "display_name": "Python 3"
    },
    "language_info": {
      "name": "python"
    }
  },
  "cells": [
    {
      "cell_type": "markdown",
      "metadata": {
        "id": "view-in-github",
        "colab_type": "text"
      },
      "source": [
        "<a href=\"https://colab.research.google.com/github/balada-raja/Fungsi-Alih-Motor-DC/blob/main/Fungsi_Alih_Motor_DC_Balada_Raja_Baskara_235150300111030.ipynb\" target=\"_parent\"><img src=\"https://colab.research.google.com/assets/colab-badge.svg\" alt=\"Open In Colab\"/></a>"
      ]
    },
    {
      "cell_type": "markdown",
      "source": [
        "1. Model Matematika Motor DC\n",
        "\n",
        "Motor DC dapat dimodelkan dengan persamaan listrik dan persamaan mekanik:\n",
        "\n",
        "Persamaan Listrik (hukum Kirchoff):\n",
        "\n",
        "$$\n",
        "𝑉(𝑡) = 𝐿 \\frac{di}{dt}\n",
        "𝑑\n",
        "𝑡\n",
        "+\n",
        "𝑅\n",
        "𝑖\n",
        "+\n",
        "𝐾\n",
        "𝑒\n",
        "𝜔\n",
        "$$\n",
        "\n",
        "di mana:\n",
        "\n",
        "𝑉(𝑡) = Tegangan input motor (Volt)\n",
        "\n",
        "𝑖(𝑡) = Arus dalam angker (Ampere)\n",
        "\n",
        "𝑅 = Resistansi angker (Ohm)\n",
        "\n",
        "𝐿 = Induktansi angker (Henry)\n",
        "\n",
        "𝐾𝑒 = Konstanta ggl balik (Volt/(rad/s))\n",
        "\n",
        "𝜔(𝑡) = Kecepatan sudut (rad/s)\n",
        "\n",
        "Persamaan Mekanik (hukum Newton kedua):\n",
        "$$\n",
        "𝐽 \\frac{d𝜔}{dt}\n",
        "+\n",
        "𝐵\n",
        "𝜔\n",
        "=\n",
        "𝐾\n",
        "𝑚\n",
        "𝑖\n",
        "$$\n",
        "\n",
        "di mana:\n",
        "\n",
        "𝐽 = Momen inersia rotor (kg·m²)\n",
        "\n",
        "𝐵 = Koefisien redaman viskositas (N·m·s)\n",
        "\n",
        "𝐾𝑚 = Konstanta torsi motor (N·m/A)\n",
        "\n",
        "\n",
        "2. Transformasi Laplace\n",
        "\n",
        "Mengubah persamaan diferensial ke dalam domain s menggunakan Transformasi Laplace:\n",
        "$$\n",
        "𝑉\n",
        "(\n",
        "𝑠\n",
        ")\n",
        "=\n",
        "𝐿\n",
        "𝑠\n",
        "𝐼\n",
        "(\n",
        "𝑠\n",
        ")\n",
        "+\n",
        "𝑅\n",
        "𝐼\n",
        "(\n",
        "𝑠\n",
        ")\n",
        "+\n",
        "𝐾\n",
        "𝑒\n",
        "Ω\n",
        "(\n",
        "𝑠\n",
        ")\n",
        "$$\n",
        "\n",
        "$$\n",
        "𝐽\n",
        "𝑠\n",
        "Ω\n",
        "(\n",
        "𝑠\n",
        ")\n",
        "+\n",
        "𝐵\n",
        "Ω\n",
        "(\n",
        "𝑠\n",
        ")\n",
        "=\n",
        "𝐾\n",
        "𝑚\n",
        "𝐼\n",
        "(\n",
        "𝑠\n",
        ")\n",
        "$$\n",
        "\n",
        "3. Fungsi Alih $$ \\frac{Ω(𝑠)}{𝑉(𝑠)}$$\n",
        "\n",
        "\n",
        "Menyelesaikan persamaan simultan untuk menemukan hubungan antara kecepatan sudut\n",
        "𝜔\n",
        "(\n",
        "𝑠\n",
        ")\n",
        "ω(s) dan tegangan\n",
        "𝑉\n",
        "(\n",
        "𝑠\n",
        ")\n",
        "V(s)."
      ],
      "metadata": {
        "id": "00hELHCZcKcs"
      }
    },
    {
      "cell_type": "markdown",
      "source": [
        "##1. Model Matematika Motor DC\n"
      ],
      "metadata": {
        "id": "mo5Q-JbkXDZy"
      }
    },
    {
      "cell_type": "markdown",
      "source": [
        "## Persamaan Listrik dan Mekanik\n"
      ],
      "metadata": {
        "id": "hrqwyMDuXKYZ"
      }
    },
    {
      "cell_type": "code",
      "source": [
        "import sympy as sp\n",
        "\n",
        "# Definisi variabel simbolik\n",
        "t, s = sp.symbols('t s')\n",
        "L, R, K, J, B = sp.symbols('L R K J B')  # Parameter Motor DC\n",
        "V_s = sp.Function('V')(s)  # Tegangan input\n",
        "I_s = sp.Function('I')(s)  # Arus dalam domain s\n",
        "Theta_s = sp.Function('Theta')(s)  # Posisi sudut rotor dalam domain s\n",
        "\n",
        "# Fungsi dalam domain waktu\n",
        "i_t = sp.Function('i')(t)\n",
        "theta_t = sp.Function('theta')(t)\n",
        "\n",
        "persamaan_listrik = sp.Eq(L * i_t.diff(t) + R * i_t + K * theta_t.diff(t), V_s)\n",
        "\n",
        "persamaan_mekanik = sp.Eq(J * theta_t.diff(t, t) + B * theta_t.diff(t), K * i_t)\n",
        "\n",
        "display(persamaan_listrik)\n",
        "display(persamaan_mekanik)\n"
      ],
      "metadata": {
        "colab": {
          "base_uri": "https://localhost:8080/",
          "height": 89
        },
        "id": "SB0h2BxAXQZQ",
        "outputId": "f1e3dd9b-09b8-4fd5-8ae6-246e8c551094"
      },
      "execution_count": null,
      "outputs": [
        {
          "output_type": "display_data",
          "data": {
            "text/plain": [
              "  d            d                       \n",
              "K⋅──(θ(t)) + L⋅──(i(t)) + R⋅i(t) = V(s)\n",
              "  dt           dt                      "
            ],
            "text/latex": "$\\displaystyle K \\frac{d}{d t} \\theta{\\left(t \\right)} + L \\frac{d}{d t} i{\\left(t \\right)} + R i{\\left(t \\right)} = V{\\left(s \\right)}$"
          },
          "metadata": {}
        },
        {
          "output_type": "display_data",
          "data": {
            "text/plain": [
              "                2                \n",
              "  d            d                 \n",
              "B⋅──(θ(t)) + J⋅───(θ(t)) = K⋅i(t)\n",
              "  dt             2               \n",
              "               dt                "
            ],
            "text/latex": "$\\displaystyle B \\frac{d}{d t} \\theta{\\left(t \\right)} + J \\frac{d^{2}}{d t^{2}} \\theta{\\left(t \\right)} = K i{\\left(t \\right)}$"
          },
          "metadata": {}
        }
      ]
    },
    {
      "cell_type": "markdown",
      "source": [
        "##2. Transformasi Laplace\n",
        "\n"
      ],
      "metadata": {
        "id": "y0ju2itCXPI5"
      }
    },
    {
      "cell_type": "code",
      "source": [
        "import sympy as sp\n",
        "from IPython.display import display, Math\n",
        "\n",
        "# Definisi variabel simbolik\n",
        "t, s = sp.symbols('t s')\n",
        "L, R, K, J, B = sp.symbols('L R K J B', real=True, positive=True)  # Parameter Motor DC\n",
        "V_s = sp.Function('V')(s)  # Tegangan input dalam domain s\n",
        "I_s = sp.Function('I')(s)  # Arus dalam domain s\n",
        "Theta_s = sp.Function('Theta')(s)  # Posisi sudut rotor dalam domain s\n",
        "\n",
        "# Transformasi Laplace (dengan asumsi kondisi awal nol: i(0) = 0, θ(0) = 0, θ'(0) = 0)\n",
        "i_t = sp.Function('i')(t)\n",
        "theta_t = sp.Function('theta')(t)\n",
        "\n",
        "persamaan_listrik = sp.Eq(L * i_t.diff(t) + R * i_t + K * theta_t.diff(t), V_s)\n",
        "\n",
        "persamaan_mekanik = sp.Eq(J * theta_t.diff(t, t) + B * theta_t.diff(t), K * i_t)\n",
        "\n",
        "persamaan_listrik_Laplace = persamaan_listrik.subs({\n",
        "    sp.LaplaceTransform(i_t, t, s): I_s,\n",
        "    sp.LaplaceTransform(theta_t, t, s): Theta_s\n",
        "}).rewrite(sp.LaplaceTransform).doit()\n",
        "\n",
        "persamaan_mekanik_Laplace = persamaan_mekanik.subs({\n",
        "    sp.LaplaceTransform(i_t, t, s): I_s,\n",
        "    sp.LaplaceTransform(theta_t, t, s): Theta_s\n",
        "}).rewrite(sp.LaplaceTransform).doit()\n",
        "\n",
        "print(\"Transformasi Laplace dari Persamaan Listrik:\")\n",
        "display(Math(sp.latex(persamaan_listrik_Laplace)))\n",
        "\n",
        "print(\"\\nTransformasi Laplace dari Persamaan Mekanik:\")\n",
        "display(Math(sp.latex(persamaan_mekanik_Laplace)))\n"
      ],
      "metadata": {
        "colab": {
          "base_uri": "https://localhost:8080/",
          "height": 141
        },
        "id": "JQHIccAUZHbr",
        "outputId": "f7a65852-0a67-455d-8aa1-4a52449f341f"
      },
      "execution_count": 42,
      "outputs": [
        {
          "output_type": "stream",
          "name": "stdout",
          "text": [
            "Transformasi Laplace dari Persamaan Listrik:\n"
          ]
        },
        {
          "output_type": "display_data",
          "data": {
            "text/plain": [
              "<IPython.core.display.Math object>"
            ],
            "text/latex": "$\\displaystyle K \\frac{d}{d t} \\theta{\\left(t \\right)} + L \\frac{d}{d t} i{\\left(t \\right)} + R i{\\left(t \\right)} = V{\\left(s \\right)}$"
          },
          "metadata": {}
        },
        {
          "output_type": "stream",
          "name": "stdout",
          "text": [
            "\n",
            "Transformasi Laplace dari Persamaan Mekanik:\n"
          ]
        },
        {
          "output_type": "display_data",
          "data": {
            "text/plain": [
              "<IPython.core.display.Math object>"
            ],
            "text/latex": "$\\displaystyle B \\frac{d}{d t} \\theta{\\left(t \\right)} + J \\frac{d^{2}}{d t^{2}} \\theta{\\left(t \\right)} = K i{\\left(t \\right)}$"
          },
          "metadata": {}
        }
      ]
    },
    {
      "cell_type": "markdown",
      "source": [
        "## 3. Fungsi Alih Hubungan antara  kecepatan sudut ($\\omega$) terhadap tegangan (V)"
      ],
      "metadata": {
        "id": "4zzI7XC1jnBF"
      }
    },
    {
      "cell_type": "code",
      "source": [
        "import sympy as sp\n",
        "from IPython.display import display, Math\n",
        "\n",
        "# Definisi variabel simbolik\n",
        "t, s = sp.symbols('t s')\n",
        "L, R, K, J, B = sp.symbols('L R K J B', real=True, positive=True)  # Parameter Motor DC\n",
        "V_s = sp.Function('V')(s)  # Tegangan input dalam domain s\n",
        "I_s = sp.Function('I')(s)  # Arus dalam domain s\n",
        "Theta_s = sp.Function('Theta')(s)  # Posisi sudut rotor dalam domain s\n",
        "\n",
        "# Transformasi Laplace (asumsi kondisi awal nol: i(0) = 0, θ(0) = 0, θ'(0) = 0)\n",
        "i_t = sp.Function('i')(t)\n",
        "theta_t = sp.Function('theta')(t)\n",
        "\n",
        "persamaan_listrik = sp.Eq(L * i_t.diff(t) + R * i_t + K * theta_t.diff(t), V_s)\n",
        "\n",
        "persamaan_mekanik = sp.Eq(J * theta_t.diff(t, t) + B * theta_t.diff(t), K * i_t)\n",
        "\n",
        "persamaan_listrik_Laplace = sp.Eq(L * s * I_s + R * I_s + K * s * Theta_s, V_s)\n",
        "persamaan_mekanik_Laplace = sp.Eq(J * s**2 * Theta_s + B * s * Theta_s, K * I_s)\n",
        "\n",
        "# Mencari fungsi alih I(s) / V(s)\n",
        "solusi_I = sp.solve(persamaan_listrik_Laplace, I_s)[0]\n",
        "H1_s = sp.simplify(solusi_I / V_s)\n",
        "\n",
        "# Mencari fungsi alih Theta(s) / V(s)\n",
        "persamaan_mekanik_Laplace = persamaan_mekanik_Laplace.subs(I_s, solusi_I)  # Substitusi I_s ke persamaan mekanik\n",
        "solusi_Theta = sp.solve(persamaan_mekanik_Laplace, Theta_s)[0]\n",
        "H2_s = sp.simplify(solusi_Theta / V_s)\n",
        "\n",
        "print(\"\\nFungsi Alih I(s)/V(s):\")\n",
        "display(Math(sp.latex(H1_s)))\n",
        "\n",
        "print(\"\\nFungsi Alih Theta(s)/V(s):\")\n",
        "display(Math(sp.latex(H2_s)))\n"
      ],
      "metadata": {
        "colab": {
          "base_uri": "https://localhost:8080/",
          "height": 165
        },
        "id": "_HouEMZOS6SV",
        "outputId": "65cf3c7e-2bdb-444a-c378-21c112b16d95"
      },
      "execution_count": 44,
      "outputs": [
        {
          "output_type": "stream",
          "name": "stdout",
          "text": [
            "\n",
            "Fungsi Alih I(s)/V(s):\n"
          ]
        },
        {
          "output_type": "display_data",
          "data": {
            "text/plain": [
              "<IPython.core.display.Math object>"
            ],
            "text/latex": "$\\displaystyle \\frac{- K s \\Theta{\\left(s \\right)} + V{\\left(s \\right)}}{\\left(L s + R\\right) V{\\left(s \\right)}}$"
          },
          "metadata": {}
        },
        {
          "output_type": "stream",
          "name": "stdout",
          "text": [
            "\n",
            "Fungsi Alih Theta(s)/V(s):\n"
          ]
        },
        {
          "output_type": "display_data",
          "data": {
            "text/plain": [
              "<IPython.core.display.Math object>"
            ],
            "text/latex": "$\\displaystyle \\frac{K}{s \\left(B L s + B R + J L s^{2} + J R s + K^{2}\\right)}$"
          },
          "metadata": {}
        }
      ]
    }
  ]
}